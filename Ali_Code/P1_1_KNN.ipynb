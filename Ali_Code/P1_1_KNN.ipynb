{
 "cells": [
  {
   "cell_type": "code",
   "execution_count": 8,
   "metadata": {
    "collapsed": false
   },
   "outputs": [],
   "source": [
    "from sklearn.datasets import load_iris\n",
    "dataset = load_iris()"
   ]
  },
  {
   "cell_type": "code",
   "execution_count": 9,
   "metadata": {
    "collapsed": false
   },
   "outputs": [
    {
     "data": {
      "text/html": [
       "<div>\n",
       "<table border=\"1\" class=\"dataframe\">\n",
       "  <thead>\n",
       "    <tr style=\"text-align: right;\">\n",
       "      <th></th>\n",
       "      <th>sepal length (cm)</th>\n",
       "      <th>sepal width (cm)</th>\n",
       "      <th>petal length (cm)</th>\n",
       "      <th>petal width (cm)</th>\n",
       "    </tr>\n",
       "  </thead>\n",
       "  <tbody>\n",
       "    <tr>\n",
       "      <th>0</th>\n",
       "      <td>5.1</td>\n",
       "      <td>3.5</td>\n",
       "      <td>1.4</td>\n",
       "      <td>0.2</td>\n",
       "    </tr>\n",
       "    <tr>\n",
       "      <th>1</th>\n",
       "      <td>4.9</td>\n",
       "      <td>3.0</td>\n",
       "      <td>1.4</td>\n",
       "      <td>0.2</td>\n",
       "    </tr>\n",
       "    <tr>\n",
       "      <th>2</th>\n",
       "      <td>4.7</td>\n",
       "      <td>3.2</td>\n",
       "      <td>1.3</td>\n",
       "      <td>0.2</td>\n",
       "    </tr>\n",
       "    <tr>\n",
       "      <th>3</th>\n",
       "      <td>4.6</td>\n",
       "      <td>3.1</td>\n",
       "      <td>1.5</td>\n",
       "      <td>0.2</td>\n",
       "    </tr>\n",
       "    <tr>\n",
       "      <th>4</th>\n",
       "      <td>5.0</td>\n",
       "      <td>3.6</td>\n",
       "      <td>1.4</td>\n",
       "      <td>0.2</td>\n",
       "    </tr>\n",
       "  </tbody>\n",
       "</table>\n",
       "</div>"
      ],
      "text/plain": [
       "   sepal length (cm)  sepal width (cm)  petal length (cm)  petal width (cm)\n",
       "0                5.1               3.5                1.4               0.2\n",
       "1                4.9               3.0                1.4               0.2\n",
       "2                4.7               3.2                1.3               0.2\n",
       "3                4.6               3.1                1.5               0.2\n",
       "4                5.0               3.6                1.4               0.2"
      ]
     },
     "execution_count": 9,
     "metadata": {},
     "output_type": "execute_result"
    }
   ],
   "source": [
    "import pandas as pd\n",
    "import numpy as np\n",
    "\n",
    "data = pd.DataFrame(data=dataset.data, columns=dataset.feature_names)\n",
    "data.head()"
   ]
  },
  {
   "cell_type": "code",
   "execution_count": 10,
   "metadata": {
    "collapsed": false
   },
   "outputs": [
    {
     "data": {
      "text/plain": [
       "2    50\n",
       "1    50\n",
       "0    49\n",
       "Name: Species, dtype: int64"
      ]
     },
     "execution_count": 10,
     "metadata": {},
     "output_type": "execute_result"
    }
   ],
   "source": [
    "data = pd.read_csv(r'data/iris.csv')\n",
    "#  显示前N行数据，默认为5\n",
    "# data.head()\n",
    "#  显示后N行数据，默认为5\n",
    "# data.tail()\n",
    "# 随机选取N行，默认为1\n",
    "# data.sample(10) \n",
    "# 将类别文本映射成数值类型\n",
    "data['Species'] = data['Species'].map({'virginica':0,'setosa':1,'versicolor':2})\n",
    "# 删除不需要的一列\n",
    "data.drop('Id',axis=1,inplace=True)\n",
    "# data.head(10) \n",
    "# 查看重复数据\n",
    "# 判定是否有重复\n",
    "data.duplicated().any()\n",
    "# 删除重复数据\n",
    "data.drop_duplicates(inplace=True)\n",
    "len(data)\n",
    "# 查看各类花的记录数\n",
    "data['Species'].value_counts()"
   ]
  },
  {
   "cell_type": "code",
   "execution_count": 11,
   "metadata": {
    "collapsed": true
   },
   "outputs": [],
   "source": [
    "class KNN:\n",
    "    \"\"\"使用python实现K近邻算法（实现分类）\"\"\"\n",
    "    def __init__(self,k):\n",
    "        \"\"\"初始化方法\n",
    "        Parameters\n",
    "        ------\n",
    "        k: int 邻居的个数\n",
    "        \"\"\"\n",
    "        self.k = k\n",
    "\n",
    "    def fit(self, X, y):\n",
    "        \"\"\"训练方法\n",
    "        Parameters\n",
    "        ------\n",
    "            X: 类数组类型，形状为：{样本数量,特征数量}\n",
    "                待训练的样本特征（属性）\n",
    "            y: 类数组类型，形状为：{样本数量}\n",
    "                每个样本的目标值（标签）\n",
    "        \"\"\"\n",
    "        self.X = np.asarray(X)\n",
    "        self.y = np.asarray(y)\n",
    "\n",
    "    def predict(self, X):\n",
    "        \"\"\"根据参数传递样本，对样本数据进行预测\n",
    "        Parameters\n",
    "        ------\n",
    "            X: 类数组类型，形状为：{样本数量,特征数量}\n",
    "                待训练的样本特征（属性）\n",
    "            :returns\n",
    "            ----\n",
    "            result:数组类型\n",
    "                预测结果\n",
    "        \"\"\"\n",
    "        X = np.asarray(X)\n",
    "        result = []\n",
    "        for x in X:\n",
    "            # 欧氏距离\n",
    "            # 对于测试集中的每一个小样，依次与训练集中的所有样本求距离\n",
    "            dis = np.sqrt(np.sum((x - self.X) ** 2 , axis=1))\n",
    "            # 返回数组排序后，每个元素在原数组（排序之前的数组）中的索引\n",
    "            index = dis.argsort()\n",
    "            # 进行截断，只取前k个元素（取距离最近的k个元素的索引）\n",
    "            index = index[:self.k]\n",
    "            # 返回数组中每个元素出现的次数。元素必须是非负的整数\n",
    "            count = np.bincount(self.y[index])\n",
    "            # 返回ndarray数组中，值最大的元素对应的索引。该索引就是判定的类别\n",
    "            # 最大元素索引，就是出现次数最多的元素\n",
    "            result.append(count.argmax());\n",
    "        return result\n",
    "    def predict2(self, X):\n",
    "        \"\"\"根据参数传递样本，对样本数据进行预测\n",
    "        Parameters\n",
    "        ------\n",
    "            X: 类数组类型，形状为：{样本数量,特征数量}\n",
    "                待训练的样本特征（属性）\n",
    "            :returns\n",
    "            ----\n",
    "            result:数组类型\n",
    "                预测结果\n",
    "        \"\"\"\n",
    "        X = np.asarray(X)\n",
    "        result = []\n",
    "        for x in X:\n",
    "            # 欧氏距离\n",
    "            # 对于测试集中的每一个小样，依次与训练集中的所有样本求距离\n",
    "            dis = np.sqrt(np.sum((x - self.X) ** 2,axis=1))\n",
    "            # 返回数组排序后，每个元素在原数组（排序之前的数组）中的索引\n",
    "            index = dis.argsort()\n",
    "            # 进行截断，只取前k个元素（取距离最近的k个元素的索引）\n",
    "            index = index[:self.k]\n",
    "            # 返回数组中每个元素出现的次数的倒数。元素必须是非负的整数\n",
    "            # 使用weights考虑权重，权重为距离的倒数\n",
    "            count = np.bincount(self.y[index], weights=1/dis[index])\n",
    "            # 返回ndarray数组中，值最大的元素对应的索引。该索引就是判定的类别\n",
    "            # 最大元素索引，就是出现次数最多的元素\n",
    "            result.append(count.argmax());\n",
    "        return result"
   ]
  },
  {
   "cell_type": "code",
   "execution_count": 12,
   "metadata": {
    "collapsed": false
   },
   "outputs": [],
   "source": [
    "# 提取出每个类别的花数据\n",
    "t0 = data[data['Species'] == 0]\n",
    "t1 = data[data['Species'] == 1]\n",
    "t2 = data[data['Species'] == 2]\n",
    "# 对每个类别的数据进行打乱\n",
    "t0 = t0.sample(len(t0),random_state=0)\n",
    "t1 = t1.sample(len(t1),random_state=0)\n",
    "t2 = t2.sample(len(t2),random_state=0)\n",
    "# 构造训练集和测试集\n",
    "train_X = pd.concat([t0.iloc[:40,:-1],t1.iloc[:40,:-1],t2.iloc[:40,:-1]],axis=0)\n",
    "train_y = pd.concat([t0.iloc[:40,-1],t1.iloc[:40,-1],t2.iloc[:40,-1]],axis=0)\n",
    "test_X = pd.concat([t0.iloc[40:,:-1],t1.iloc[40:,:-1],t2.iloc[40:,:-1]],axis=0)\n",
    "test_y = pd.concat([t0.iloc[40:,-1],t1.iloc[40:,-1],t2.iloc[40:,-1]],axis=0)\n",
    "# 创建knn对象，进行训练\n",
    "knn = KNN(k=3)\n",
    "# 进行训练\n",
    "knn.fit(train_X,train_y)\n",
    "# 进行测试\n",
    "result = knn.predict(test_X)\n",
    "# display(result)\n",
    "# display(test_y)\n",
    "# display(np.sum(result == test_y))\n",
    "# display(np.sum(result == test_y)/len(result))"
   ]
  },
  {
   "cell_type": "code",
   "execution_count": 13,
   "metadata": {
    "collapsed": false
   },
   "outputs": [
    {
     "data": {
      "text/html": [
       "<div>\n",
       "<table border=\"1\" class=\"dataframe\">\n",
       "  <thead>\n",
       "    <tr style=\"text-align: right;\">\n",
       "      <th></th>\n",
       "      <th>Sepal.Length</th>\n",
       "      <th>Sepal.Width</th>\n",
       "      <th>Petal.Length</th>\n",
       "      <th>Petal.Width</th>\n",
       "      <th>Species</th>\n",
       "    </tr>\n",
       "  </thead>\n",
       "  <tbody>\n",
       "    <tr>\n",
       "      <th>129</th>\n",
       "      <td>7.2</td>\n",
       "      <td>3.0</td>\n",
       "      <td>5.8</td>\n",
       "      <td>1.6</td>\n",
       "      <td>0</td>\n",
       "    </tr>\n",
       "    <tr>\n",
       "      <th>104</th>\n",
       "      <td>6.5</td>\n",
       "      <td>3.0</td>\n",
       "      <td>5.8</td>\n",
       "      <td>2.2</td>\n",
       "      <td>0</td>\n",
       "    </tr>\n",
       "    <tr>\n",
       "      <th>126</th>\n",
       "      <td>6.2</td>\n",
       "      <td>2.8</td>\n",
       "      <td>4.8</td>\n",
       "      <td>1.8</td>\n",
       "      <td>0</td>\n",
       "    </tr>\n",
       "    <tr>\n",
       "      <th>130</th>\n",
       "      <td>7.4</td>\n",
       "      <td>2.8</td>\n",
       "      <td>6.1</td>\n",
       "      <td>1.9</td>\n",
       "      <td>0</td>\n",
       "    </tr>\n",
       "    <tr>\n",
       "      <th>132</th>\n",
       "      <td>6.4</td>\n",
       "      <td>2.8</td>\n",
       "      <td>5.6</td>\n",
       "      <td>2.2</td>\n",
       "      <td>0</td>\n",
       "    </tr>\n",
       "  </tbody>\n",
       "</table>\n",
       "</div>"
      ],
      "text/plain": [
       "     Sepal.Length  Sepal.Width  Petal.Length  Petal.Width  Species\n",
       "129           7.2          3.0           5.8          1.6        0\n",
       "104           6.5          3.0           5.8          2.2        0\n",
       "126           6.2          2.8           4.8          1.8        0\n",
       "130           7.4          2.8           6.1          1.9        0\n",
       "132           6.4          2.8           5.6          2.2        0"
      ]
     },
     "execution_count": 13,
     "metadata": {},
     "output_type": "execute_result"
    }
   ],
   "source": [
    "t0.head()"
   ]
  },
  {
   "cell_type": "code",
   "execution_count": 14,
   "metadata": {
    "collapsed": false
   },
   "outputs": [],
   "source": [
    "# 使用权重，进行测试\n",
    "result2 = knn.predict2(test_X)\n",
    "# display(np.sum(result2 == test_y))"
   ]
  },
  {
   "cell_type": "code",
   "execution_count": 15,
   "metadata": {
    "collapsed": true
   },
   "outputs": [],
   "source": [
    "# KNN可视化\n",
    "import matplotlib as mpl\n",
    "import matplotlib.pyplot as plt"
   ]
  },
  {
   "cell_type": "code",
   "execution_count": 16,
   "metadata": {
    "collapsed": true
   },
   "outputs": [],
   "source": [
    "# 默认情况下，matplotlib不支持中文显示。需要设置\n",
    "# 设置字体为黑体，以支持中文显示\n",
    "mpl.rcParams['font.family'] = 'SimHei'\n",
    "# 设置在中文字体时，能够正常的显示负号(-)\n",
    "mpl.rcParams['axes.unicode_minus'] = False"
   ]
  },
  {
   "cell_type": "code",
   "execution_count": 17,
   "metadata": {
    "collapsed": false
   },
   "outputs": [
    {
     "data": {
      "text/plain": [
       "<matplotlib.figure.Figure at 0x215a96ac278>"
      ]
     },
     "execution_count": 17,
     "metadata": {},
     "output_type": "execute_result"
    }
   ],
   "source": [
    "# 设置画布大小\n",
    "plt.figure(figsize=(10,10))"
   ]
  },
  {
   "cell_type": "code",
   "execution_count": 18,
   "metadata": {
    "collapsed": false
   },
   "outputs": [
    {
     "data": {
      "text/plain": [
       "<matplotlib.collections.PathCollection at 0x215ab760be0>"
      ]
     },
     "execution_count": 18,
     "metadata": {},
     "output_type": "execute_result"
    }
   ],
   "source": [
    "# {'virginica':0,'setosa':1,'versicolor':2}\n",
    "# sepal length (cm) petal length (cm)\n",
    "# 绘制训练集数据\n",
    "plt.scatter(x=t0['Sepal.Length'][:40], y=t0['Petal.Length'][:40], color='r' , label='virginica') # virginica\n",
    "plt.scatter(x=t1['Sepal.Length'][:40], y=t1['Petal.Length'][:40], color='g' , label='setosa') # setosa\n",
    "plt.scatter(x=t2['Sepal.Length'][:40], y=t2['Petal.Length'][:40], color='b' , label='versicolor') # versicolor"
   ]
  },
  {
   "cell_type": "code",
   "execution_count": 19,
   "metadata": {
    "collapsed": false
   },
   "outputs": [
    {
     "data": {
      "text/plain": [
       "<matplotlib.collections.PathCollection at 0x215ab773908>"
      ]
     },
     "execution_count": 19,
     "metadata": {},
     "output_type": "execute_result"
    }
   ],
   "source": [
    "# 绘制测试集数据\n",
    "right = test_X[result == test_y]\n",
    "wrong = test_X[result != test_y]\n",
    "plt.scatter(x=right['Sepal.Length'], y=right['Petal.Length'], marker='x', color='c' , label='right') # right\n",
    "plt.scatter(x=wrong['Sepal.Length'], y=wrong['Petal.Length'], marker='>', color='m' , label='wrong') # wrong"
   ]
  },
  {
   "cell_type": "code",
   "execution_count": 20,
   "metadata": {
    "collapsed": false
   },
   "outputs": [
    {
     "data": {
      "text/plain": [
       "<matplotlib.text.Text at 0x215ab701208>"
      ]
     },
     "execution_count": 20,
     "metadata": {},
     "output_type": "execute_result"
    }
   ],
   "source": [
    "plt.xlabel('花萼长度')\n",
    "plt.ylabel('花瓣长度')"
   ]
  },
  {
   "cell_type": "code",
   "execution_count": 21,
   "metadata": {
    "collapsed": false
   },
   "outputs": [
    {
     "data": {
      "image/png": "[encoded data removed]",
      "text/plain": [
       "<matplotlib.figure.Figure at 0x215a96ac278>"
      ]
     },
     "metadata": {},
     "output_type": "display_data"
    }
   ],
   "source": [
    "plt.title('KNN分类结果显示')\n",
    "plt.legend(loc='best')\n",
    "plt.show()"
   ]
  }
 ],
 "metadata": {
  "kernelspec": {
   "display_name": "Python 3",
   "language": "python",
   "name": "python3"
  },
  "language_info": {
   "codemirror_mode": {
    "name": "ipython",
    "version": 3
   },
   "file_extension": ".py",
   "mimetype": "text/x-python",
   "name": "python",
   "nbconvert_exporter": "python",
   "pygments_lexer": "ipython3",
   "version": "3.6.0"
  }
 },
 "nbformat": 4,
 "nbformat_minor": 2
}
